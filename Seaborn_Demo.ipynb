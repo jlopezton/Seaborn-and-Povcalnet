{
 "cells": [
  {
   "cell_type": "code",
   "execution_count": 0,
   "metadata": {
    "colab": {},
    "colab_type": "code",
    "id": "hUpLg-cBQwlB"
   },
   "outputs": [],
   "source": [
    "import os, sys\n",
    "import pandas as pd\n",
    "import seaborn as sns\n",
    "import matplotlib.pyplot as plt"
   ]
  },
  {
   "cell_type": "code",
   "execution_count": 0,
   "metadata": {
    "colab": {},
    "colab_type": "code",
    "id": "Hfu6PKAYQwlL"
   },
   "outputs": [],
   "source": [
    "pth = r'C:\\Users\\wb493355\\Documents'"
   ]
  },
  {
   "cell_type": "code",
   "execution_count": 0,
   "metadata": {
    "colab": {},
    "colab_type": "code",
    "id": "OhfNAyroQwlQ"
   },
   "outputs": [],
   "source": [
    "fil = 'Afghanistan_criticality_res.csv'"
   ]
  },
  {
   "cell_type": "code",
   "execution_count": 0,
   "metadata": {
    "colab": {},
    "colab_type": "code",
    "id": "n1swm7dpQwlW"
   },
   "outputs": [],
   "source": [
    "loc = os.path.join(pth, fil)"
   ]
  },
  {
   "cell_type": "code",
   "execution_count": 0,
   "metadata": {
    "colab": {},
    "colab_type": "code",
    "id": "NaeKox32Qwld"
   },
   "outputs": [],
   "source": [
    "df = pd.read_csv(loc)"
   ]
  },
  {
   "cell_type": "code",
   "execution_count": 0,
   "metadata": {
    "colab": {},
    "colab_type": "code",
    "id": "-9YPcM2hQwli"
   },
   "outputs": [],
   "source": [
    "df.columns"
   ]
  },
  {
   "cell_type": "code",
   "execution_count": 0,
   "metadata": {
    "colab": {},
    "colab_type": "code",
    "id": "d9lK2G7LQwlo"
   },
   "outputs": [],
   "source": [
    "len(df)"
   ]
  },
  {
   "cell_type": "code",
   "execution_count": 0,
   "metadata": {
    "colab": {},
    "colab_type": "code",
    "id": "Gc_dgGI-Qwlt"
   },
   "outputs": [],
   "source": [
    "df.head(5)"
   ]
  },
  {
   "cell_type": "code",
   "execution_count": 0,
   "metadata": {
    "colab": {},
    "colab_type": "code",
    "id": "iBvrKOqeQwl0"
   },
   "outputs": [],
   "source": [
    "df.nwk_pct_destroyed.value_counts()"
   ]
  },
  {
   "cell_type": "code",
   "execution_count": 0,
   "metadata": {
    "colab": {},
    "colab_type": "code",
    "id": "muKZkY3oQwl-"
   },
   "outputs": [],
   "source": [
    "df.loc[df.disrupted_30_pct_plus == '--','disrupted_30_pct_plus'] = 0\n",
    "df.disrupted_30_pct_plus = df.disrupted_30_pct_plus.astype(float)"
   ]
  },
  {
   "cell_type": "code",
   "execution_count": 0,
   "metadata": {
    "colab": {},
    "colab_type": "code",
    "id": "w19wKZU7QwmF"
   },
   "outputs": [],
   "source": [
    "## https://seaborn.pydata.org/examples/different_scatter_variables.html\n",
    "    \n",
    "sns.set(style=\"whitegrid\")\n",
    "\n",
    "f, ax = plt.subplots(figsize=(14, 6.5))\n",
    "\n",
    "sns.despine(f, left=True, bottom=True)\n",
    "\n",
    "sns.scatterplot(x=\"nwk_pct_destroyed\", \n",
    "                y=\"disrupted_30_pct_plus\",\n",
    "                palette=\"ch:r=-.2,d=.3_r\",\n",
    "                linewidth=0,\n",
    "                data=df, \n",
    "                ax=ax)"
   ]
  },
  {
   "cell_type": "code",
   "execution_count": 0,
   "metadata": {
    "colab": {},
    "colab_type": "code",
    "id": "-KMVyl5YQwmL"
   },
   "outputs": [],
   "source": [
    "## https://seaborn.pydata.org/examples/different_scatter_variables.html\n",
    "    \n",
    "sns.set(style=\"whitegrid\")\n",
    "\n",
    "f, ax = plt.subplots(figsize=(14, 6.5))\n",
    "\n",
    "sns.despine(f, left=True, bottom=True)\n",
    "\n",
    "sns.scatterplot(x=\"nwk_pct_destroyed\", \n",
    "                y=\"total_surp_loss_e1\",\n",
    "                palette=\"ch:r=-.2,d=.3_r\",\n",
    "                linewidth=0,\n",
    "                data=df, \n",
    "                ax=ax)"
   ]
  },
  {
   "cell_type": "code",
   "execution_count": 0,
   "metadata": {
    "colab": {},
    "colab_type": "code",
    "id": "cNA01H6nQwmQ"
   },
   "outputs": [],
   "source": [
    "## https://seaborn.pydata.org/examples/grouped_boxplot.html\n",
    "\n",
    "f, ax = plt.subplots(figsize=(14, 6))\n",
    "\n",
    "sns.set(style=\"whitegrid\")\n",
    "\n",
    "data_B = df.loc[(df.nwk_pct_destroyed < 55) & (df.nwk_pct_destroyed > 0)]\n",
    "\n",
    "sns.boxplot(x = \"nwk_pct_destroyed\", \n",
    "            y = \"disrupted_30_pct_plus\", \n",
    "            data = data_B, \n",
    "            whis = 100, \n",
    "            palette = 'Reds')\n",
    "\n",
    "sns.despine(offset=5, trim=True)"
   ]
  },
  {
   "cell_type": "code",
   "execution_count": 0,
   "metadata": {
    "colab": {},
    "colab_type": "code",
    "id": "ULRqDGXPQwmU"
   },
   "outputs": [],
   "source": [
    "f, ax = plt.subplots(figsize=(14, 6))\n",
    "\n",
    "sns.set(style=\"whitegrid\")\n",
    "\n",
    "sns.violinplot(x=\"nwk_pct_destroyed\", \n",
    "               y=\"disrupted_30_pct_plus\", \n",
    "               data = data_B, \n",
    "               palette = \"Blues\", \n",
    "               inner = \"point\") # or, None, or \"box\", or \"quartile\"\n",
    "\n",
    "sns.despine(left=False)"
   ]
  },
  {
   "cell_type": "code",
   "execution_count": 0,
   "metadata": {
    "colab": {},
    "colab_type": "code",
    "id": "gWxtH3PoQwmZ"
   },
   "outputs": [],
   "source": [
    "f, ax = plt.subplots(figsize=(14, 6))\n",
    "\n",
    "sns.set(style=\"whitegrid\")\n",
    "\n",
    "sns.violinplot(x=\"nwk_pct_destroyed\", \n",
    "               y=\"disrupted_30_pct_plus\", #disrupted_30_pct_plus\n",
    "               data = data_B, \n",
    "               palette = \"Blues\", \n",
    "               scale = 'count',\n",
    "               inner = None) # or, None, or \"box\", or \"quartile\"\n",
    "\n",
    "sns.despine(left=False)"
   ]
  },
  {
   "cell_type": "markdown",
   "metadata": {
    "colab_type": "text",
    "id": "05rEcyOBQwmf"
   },
   "source": [
    "### Examine surplus loss as violin plot"
   ]
  },
  {
   "cell_type": "code",
   "execution_count": 0,
   "metadata": {
    "colab": {},
    "colab_type": "code",
    "id": "mYHX-qjKQwmh"
   },
   "outputs": [],
   "source": [
    "f, ax = plt.subplots(figsize=(14, 6))\n",
    "\n",
    "sns.set(style=\"whitegrid\")\n",
    "\n",
    "sns.violinplot(x=\"nwk_pct_destroyed\", \n",
    "               y=\"total_pct_surplus_loss_e1\", \n",
    "               data = data_B, \n",
    "               palette = \"Blues\", \n",
    "               scale = 'count',\n",
    "               inner = None) # or, None, or \"box\", or \"quartile\"\n",
    "\n",
    "sns.despine(left=False)"
   ]
  },
  {
   "cell_type": "code",
   "execution_count": 0,
   "metadata": {
    "colab": {},
    "colab_type": "code",
    "id": "gk9sDKlgQwmm"
   },
   "outputs": [],
   "source": [
    "data_C_e1 = data_B.copy()\n",
    "data_C_e1 = data_C_e1[['total_pct_surplus_loss_e1','nwk_pct_destroyed','iteration']]\n",
    "data_C_e1 = data_C_e1.rename({'total_pct_surplus_loss_e1':'surplus_loss_pct'}, axis = 1)\n",
    "data_C_e1['elasticity'] = 'e1'\n",
    "\n",
    "data_C_e2 = data_B.copy()\n",
    "data_C_e2 = data_C_e2[['total_pct_surplus_loss_e2','nwk_pct_destroyed','iteration']]\n",
    "data_C_e2 = data_C_e2.rename({'total_pct_surplus_loss_e2':'surplus_loss_pct'}, axis = 1)\n",
    "data_C_e2['elasticity'] = 'e2'\n",
    "\n",
    "data_C = pd.concat([data_C_e1,data_C_e2], axis = 0)"
   ]
  },
  {
   "cell_type": "markdown",
   "metadata": {
    "colab_type": "text",
    "id": "__z9IUrqQwms"
   },
   "source": [
    "### Two series comparison using hue"
   ]
  },
  {
   "cell_type": "code",
   "execution_count": 0,
   "metadata": {
    "colab": {},
    "colab_type": "code",
    "id": "-k5IXR1vQwmt"
   },
   "outputs": [],
   "source": [
    "f, ax = plt.subplots(figsize=(14, 6))\n",
    "\n",
    "sns.set(style=\"whitegrid\")\n",
    "\n",
    "sns.violinplot(x=\"nwk_pct_destroyed\", \n",
    "               y=\"surplus_loss_pct\", \n",
    "               hue = 'elasticity',\n",
    "               data = data_C, \n",
    "               palette = \"Reds\",\n",
    "               scale = 'count',\n",
    "               split = True,\n",
    "               inner = None) # or, None, or \"box\", or \"quartile\"\n",
    "\n",
    "sns.despine(left=False)"
   ]
  },
  {
   "cell_type": "code",
   "execution_count": 0,
   "metadata": {
    "colab": {},
    "colab_type": "code",
    "id": "s2dWx5H5Qwmz"
   },
   "outputs": [],
   "source": [
    "# Load the example mpg dataset\n",
    "mpg = sns.load_dataset(\"mpg\")\n",
    "\n",
    "mpg.head(5)"
   ]
  },
  {
   "cell_type": "code",
   "execution_count": 0,
   "metadata": {
    "colab": {},
    "colab_type": "code",
    "id": "UDO4tlCyQwnD"
   },
   "outputs": [],
   "source": [
    "type(mpg)"
   ]
  },
  {
   "cell_type": "code",
   "execution_count": 0,
   "metadata": {
    "colab": {},
    "colab_type": "code",
    "id": "orj35e_SQwnK"
   },
   "outputs": [],
   "source": [
    "# Plot miles per gallon against horsepower with other semantics\n",
    "sns.relplot(x=\"horsepower\", \n",
    "            y=\"mpg\", \n",
    "            hue=\"origin\", \n",
    "            size=\"weight\",\n",
    "            sizes=(40, 200), \n",
    "            alpha=0.8, \n",
    "            palette=\"muted\",\n",
    "            height = 9, \n",
    "            data = mpg)"
   ]
  },
  {
   "cell_type": "code",
   "execution_count": 0,
   "metadata": {
    "colab": {},
    "colab_type": "code",
    "id": "IRjP-j3sQwnP"
   },
   "outputs": [],
   "source": [
    "sns.set(style=\"white\")\n",
    "\n",
    "sns.relplot(x=\"horsepower\", \n",
    "            y=\"acceleration\", \n",
    "            size=\"cylinders\",\n",
    "            hue = 'origin',\n",
    "            sizes=(40, 200), \n",
    "            alpha=0.8, \n",
    "            height = 9, \n",
    "            data = mpg)"
   ]
  },
  {
   "cell_type": "code",
   "execution_count": 0,
   "metadata": {
    "colab": {},
    "colab_type": "code",
    "id": "zrILzjvDQwnU"
   },
   "outputs": [],
   "source": [
    "sns.set(style=\"white\")\n",
    "\n",
    "sns.relplot(x=\"mpg\", \n",
    "            y=\"acceleration\", \n",
    "            size=\"weight\",\n",
    "            hue = 'origin',\n",
    "            sizes=(40, 200), \n",
    "            alpha=0.8, \n",
    "            height = 9, \n",
    "            data = mpg)"
   ]
  },
  {
   "cell_type": "code",
   "execution_count": 0,
   "metadata": {
    "colab": {},
    "colab_type": "code",
    "id": "vJ09SnJBQwnY"
   },
   "outputs": [],
   "source": []
  }
 ],
 "metadata": {
  "colab": {
   "name": "Seaborn Demo.ipynb",
   "provenance": [],
   "version": "0.3.2"
  },
  "kernelspec": {
   "display_name": "Python 3",
   "language": "python",
   "name": "python3"
  },
  "language_info": {
   "codemirror_mode": {
    "name": "ipython",
    "version": 3
   },
   "file_extension": ".py",
   "mimetype": "text/x-python",
   "name": "python",
   "nbconvert_exporter": "python",
   "pygments_lexer": "ipython3",
   "version": "3.7.3"
  }
 },
 "nbformat": 4,
 "nbformat_minor": 1
}
